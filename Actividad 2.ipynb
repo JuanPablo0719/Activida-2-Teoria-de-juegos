{
 "cells": [
  {
   "cell_type": "markdown",
   "id": "8d1eef6c",
   "metadata": {},
   "source": [
    " "
   ]
  },
  {
   "cell_type": "markdown",
   "id": "0225a4f8",
   "metadata": {},
   "source": [
    " "
   ]
  },
  {
   "cell_type": "markdown",
   "id": "4b95c15b",
   "metadata": {},
   "source": [
    " "
   ]
  },
  {
   "cell_type": "markdown",
   "id": "7c42b3c1",
   "metadata": {},
   "source": [
    "##### Importación de Librerías"
   ]
  },
  {
   "cell_type": "code",
   "execution_count": 1,
   "id": "d04d5d24",
   "metadata": {},
   "outputs": [
    {
     "name": "stderr",
     "output_type": "stream",
     "text": [
      "C:\\Users\\diego\\anaconda3\\envs\\Ciecnia\\lib\\site-packages\\scipy\\__init__.py:146: UserWarning: A NumPy version >=1.16.5 and <1.23.0 is required for this version of SciPy (detected version 1.24.1\n",
      "  warnings.warn(f\"A NumPy version >={np_minversion} and <{np_maxversion}\"\n"
     ]
    }
   ],
   "source": [
    "from scipy.stats import binom\n",
    "from scipy.stats import stats\n",
    "import numpy as np\n",
    "import matplotlib.pyplot as plt\n",
    "from scipy.stats import gamma\n",
    "import scipy.special as sps"
   ]
  },
  {
   "cell_type": "markdown",
   "id": "720313f3",
   "metadata": {},
   "source": [
    " "
   ]
  },
  {
   "cell_type": "markdown",
   "id": "752f4dde",
   "metadata": {},
   "source": [
    " "
   ]
  },
  {
   "cell_type": "markdown",
   "id": "5b5b5396",
   "metadata": {},
   "source": [
    " "
   ]
  },
  {
   "cell_type": "markdown",
   "id": "8159e82a",
   "metadata": {},
   "source": [
    "### Ejercicio 1"
   ]
  },
  {
   "cell_type": "code",
   "execution_count": 2,
   "id": "6650978d",
   "metadata": {},
   "outputs": [
    {
     "data": {
      "text/plain": [
       "array([0, 1, 2, 3, 4, 5, 6, 7, 8])"
      ]
     },
     "execution_count": 2,
     "metadata": {},
     "output_type": "execute_result"
    }
   ],
   "source": [
    "n=8\n",
    "p=2/3\n",
    "x=np.arange( 0, n+1 )\n",
    "x"
   ]
  },
  {
   "cell_type": "code",
   "execution_count": 3,
   "id": "82e0dd54",
   "metadata": {},
   "outputs": [
    {
     "data": {
      "text/plain": [
       "array([1.52415790e-04, 2.43865264e-03, 1.70705685e-02, 6.82822740e-02,\n",
       "       1.70705685e-01, 2.73129096e-01, 2.73129096e-01, 1.56073769e-01,\n",
       "       3.90184423e-02])"
      ]
     },
     "execution_count": 3,
     "metadata": {},
     "output_type": "execute_result"
    }
   ],
   "source": [
    "a=binom.pmf( x,\n",
    "             n,\n",
    "             p )\n",
    "a"
   ]
  },
  {
   "cell_type": "code",
   "execution_count": 4,
   "id": "48aef0c5",
   "metadata": {
    "scrolled": true
   },
   "outputs": [
    {
     "data": {
      "text/plain": [
       "5.333333333333333"
      ]
     },
     "execution_count": 4,
     "metadata": {},
     "output_type": "execute_result"
    }
   ],
   "source": [
    "def ve( v, p ):\n",
    "    v=np.asarray( v )\n",
    "    p=np.asarray( p )\n",
    "    return ( v*p ).sum(  )/p.sum(  )\n",
    "\n",
    "v=[ 0, 1, 2, 3, 4, 5, 6, 7, 8 ]\n",
    "p=[ a ]\n",
    "\n",
    "ve=ve( v, p )\n",
    "ve"
   ]
  },
  {
   "cell_type": "code",
   "execution_count": 5,
   "id": "1cec3a12",
   "metadata": {
    "scrolled": false
   },
   "outputs": [
    {
     "data": {
      "text/plain": [
       "<matplotlib.lines.Line2D at 0x1b122299280>"
      ]
     },
     "execution_count": 5,
     "metadata": {},
     "output_type": "execute_result"
    },
    {
     "data": {
      "image/png": "[encoded data removed]",
      "text/plain": [
       "<Figure size 432x288 with 1 Axes>"
      ]
     },
     "metadata": {
      "needs_background": "light"
     },
     "output_type": "display_data"
    }
   ],
   "source": [
    "plt.bar( x,\n",
    "         a,\n",
    "         color=\"darkblue\" )\n",
    "plt.axvline( x=ve,\n",
    "             color=\"darkred\",\n",
    "             lw=5 )"
   ]
  },
  {
   "cell_type": "markdown",
   "id": "59ffd8b2",
   "metadata": {},
   "source": [
    " "
   ]
  },
  {
   "cell_type": "markdown",
   "id": "3e5f1eca",
   "metadata": {},
   "source": [
    " "
   ]
  },
  {
   "cell_type": "markdown",
   "id": "3422306e",
   "metadata": {},
   "source": [
    " "
   ]
  },
  {
   "cell_type": "markdown",
   "id": "50a3495e",
   "metadata": {},
   "source": [
    "### Ejercicio 2"
   ]
  },
  {
   "cell_type": "markdown",
   "id": "930c0a24",
   "metadata": {},
   "source": [
    "##### Graficación con Librería \"NUMPY\""
   ]
  },
  {
   "cell_type": "code",
   "execution_count": 6,
   "id": "eb5e0dc5",
   "metadata": {
    "scrolled": true
   },
   "outputs": [
    {
     "data": {
      "image/png": "[encoded data removed]",
      "text/plain": [
       "<Figure size 432x288 with 1 Axes>"
      ]
     },
     "metadata": {
      "needs_background": "light"
     },
     "output_type": "display_data"
    }
   ],
   "source": [
    "shape, scale=2., 3.\n",
    "s=np.random.gamma( shape,\n",
    "                   scale,\n",
    "                   1000 )\n",
    "\n",
    "count, bins, ignored=plt.hist( s,\n",
    "                               50,\n",
    "                               density=True,\n",
    "                               color=\"darkblue\" )\n",
    "plt.plot( bins,\n",
    "          bins**( shape-1 )*( np.exp( -bins/scale )/( sps.gamma( shape )*scale**shape ) ),\n",
    "          lw=5,\n",
    "          color=\"darkred\")\n",
    "plt.show(  )"
   ]
  },
  {
   "cell_type": "markdown",
   "id": "f74a19f1",
   "metadata": {},
   "source": [
    "##### Graficación con Librería \"SCIPY\""
   ]
  },
  {
   "cell_type": "code",
   "execution_count": 7,
   "id": "717f8225",
   "metadata": {},
   "outputs": [
    {
     "data": {
      "image/png": "[encoded data removed]",
      "text/plain": [
       "<Figure size 432x288 with 1 Axes>"
      ]
     },
     "metadata": {
      "needs_background": "light"
     },
     "output_type": "display_data"
    }
   ],
   "source": [
    "shape, scale=2., 3.\n",
    "s=gamma.rvs( shape,\n",
    "             scale=scale,\n",
    "             size=1000 )\n",
    "\n",
    "count, bins, ignored=plt.hist( s,\n",
    "                               50,\n",
    "                               density=True,\n",
    "                               color=\"darkblue\" )\n",
    "pdf=gamma.pdf( bins,\n",
    "               shape,\n",
    "               scale=scale )\n",
    "plt.plot( bins,\n",
    "          pdf,\n",
    "          lw=5,\n",
    "          color=\"darkred\" )\n",
    "plt.show(  )"
   ]
  },
  {
   "cell_type": "code",
   "execution_count": 8,
   "id": "7cc36f29",
   "metadata": {},
   "outputs": [
    {
     "data": {
      "image/png": "[encoded data removed]",
      "text/plain": [
       "<Figure size 432x288 with 1 Axes>"
      ]
     },
     "metadata": {
      "needs_background": "light"
     },
     "output_type": "display_data"
    }
   ],
   "source": [
    "shape, scale=2., 3.\n",
    "s=gamma.rvs( shape,\n",
    "             scale=scale,\n",
    "             size=1000 )\n",
    "\n",
    "count, bins, ignored=plt.hist( s,\n",
    "                               50,\n",
    "                               density=True,\n",
    "                               color=\"darkblue\" )\n",
    "cdf2=gamma.cdf( bins,\n",
    "                shape,\n",
    "                scale=scale )\n",
    "plt.plot( bins,\n",
    "          cdf2,\n",
    "          lw=5,\n",
    "          color=\"darkred\" )\n",
    "plt.show(  )"
   ]
  },
  {
   "cell_type": "code",
   "execution_count": 9,
   "id": "e6909f83",
   "metadata": {},
   "outputs": [
    {
     "data": {
      "text/plain": [
       "4.741179219866809"
      ]
     },
     "execution_count": 9,
     "metadata": {},
     "output_type": "execute_result"
    }
   ],
   "source": [
    "def ve( v, p ):\n",
    "    v=np.asarray( v )\n",
    "    p=np.asarray( p )\n",
    "    return ( v*p ).sum(  )/p.sum(  )\n",
    "\n",
    "v=[ bins ]\n",
    "p=[ pdf ]\n",
    "\n",
    "ve=ve( v, p )\n",
    "ve"
   ]
  },
  {
   "cell_type": "code",
   "execution_count": 10,
   "id": "99049179",
   "metadata": {},
   "outputs": [
    {
     "data": {
      "image/png": "[encoded data removed]",
      "text/plain": [
       "<Figure size 432x288 with 1 Axes>"
      ]
     },
     "metadata": {
      "needs_background": "light"
     },
     "output_type": "display_data"
    }
   ],
   "source": [
    "count, bins, ignored=plt.hist( s,\n",
    "                               50,\n",
    "                               density=True,\n",
    "                               color=\"darkblue\" )\n",
    "plt.axvline( x=ve,\n",
    "             color=\"darkred\",\n",
    "             lw=5 )\n",
    "plt.plot( bins,\n",
    "          pdf,\n",
    "          lw=5,\n",
    "          color=\"darkgreen\" )\n",
    "plt.show(  )"
   ]
  },
  {
   "cell_type": "markdown",
   "id": "26264750",
   "metadata": {},
   "source": [
    " "
   ]
  },
  {
   "cell_type": "markdown",
   "id": "4ee2d3fc",
   "metadata": {},
   "source": [
    " "
   ]
  },
  {
   "cell_type": "markdown",
   "id": "126036b9",
   "metadata": {},
   "source": [
    " "
   ]
  }
 ],
 "metadata": {
  "kernelspec": {
   "display_name": "Python 3 (ipykernel)",
   "language": "python",
   "name": "python3"
  },
  "language_info": {
   "codemirror_mode": {
    "name": "ipython",
    "version": 3
   },
   "file_extension": ".py",
   "mimetype": "text/x-python",
   "name": "python",
   "nbconvert_exporter": "python",
   "pygments_lexer": "ipython3",
   "version": "3.9.12"
  }
 },
 "nbformat": 4,
 "nbformat_minor": 5
}
